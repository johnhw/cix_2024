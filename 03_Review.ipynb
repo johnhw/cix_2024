{
 "cells": [
  {
   "cell_type": "markdown",
   "metadata": {},
   "source": [
    "![8th International Summer School on Computational Interaction](imgs/header.png)\n",
    "\n",
    "# 3: Review\n",
    "**John H. Williamson**"
   ]
  },
  {
   "cell_type": "markdown",
   "metadata": {},
   "source": [
    "# Results of the exercise"
   ]
  },
  {
   "cell_type": "markdown",
   "metadata": {},
   "source": [
    "\n",
    "# Blending forward and inverse models\n",
    "\n",
    "We can *combine* some of the benefits of a Bayesian and direct inverse model. There are several ways to do this:\n",
    "\n",
    "* Using ML to learn a latent representation of sensor states (either unsupervised, or as a byprodcut from a supervised direct inverse model)\n",
    "* Incorporating direct inverse model outputs as evidence sources in a Bayesian inverse model.\n",
    "\n",
    "## Learning a latent representation\n",
    "![Combining a forward and inverse model.](imgs/fwd_inv_bottleneck.png)\n",
    "*Combining a forward and inverse model using a learned latent representation.*\n",
    "\n",
    "## Fusing a direct inverse\n",
    "![Combining a forward and inverse model.](imgs/fwd_inv.png)\n",
    "*Fusing a direct inverse model in the evidence update of an stochastic filter.*\n",
    "\n",
    "# Reflection"
   ]
  }
 ],
 "metadata": {
  "language_info": {
   "name": "python"
  }
 },
 "nbformat": 4,
 "nbformat_minor": 2
}
